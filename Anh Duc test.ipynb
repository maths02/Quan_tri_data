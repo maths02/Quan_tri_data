{
 "cells": [
  {
   "cell_type": "code",
   "execution_count": null,
   "metadata": {},
   "outputs": [],
   "source": [
    "total = pd_train.isnull().sum().sort_values(ascending=False)\n",
    "percent = (pd_train.isnull().sum()/pd_train.shape[0]).sort_values(ascending=False)\n",
    "\n",
    "missing = pd.concat([total, percent], axis=1, keys=['Total', 'Perc_missing'])\n",
    "missing.head(15)"
   ]
  },
  {
   "cell_type": "code",
   "execution_count": null,
   "metadata": {},
   "outputs": [],
   "source": [
    "pd_train = pd_train.drop((missing[missing['Perc_missing'] >= 0.15]).index,1)\n",
    "pd_train.head()"
   ]
  },
  {
   "cell_type": "code",
   "execution_count": null,
   "metadata": {},
   "outputs": [],
   "source": [
    "pd_train['New'] = pd_train['OverallQual'] * pd_train['GarageArea'] * pd_train['GrLivArea']\n",
    "pd_test['New'] = pd_test['OverallQual'] * pd_test['GarageArea'] * pd_test['GrLivArea']"
   ]
  },
  {
   "cell_type": "code",
   "execution_count": null,
   "metadata": {},
   "outputs": [],
   "source": [
    "train_cols = list(pd_train.columns)\n",
    "train_cols.remove('SalePrice')"
   ]
  },
  {
   "cell_type": "code",
   "execution_count": null,
   "metadata": {},
   "outputs": [],
   "source": [
    "pd_test = pd_test[train_cols]"
   ]
  },
  {
   "cell_type": "code",
   "execution_count": null,
   "metadata": {},
   "outputs": [],
   "source": [
    "pd_test.columns[pd_test.isna().any()].tolist()"
   ]
  },
  {
   "cell_type": "code",
   "execution_count": null,
   "metadata": {},
   "outputs": [],
   "source": [
    "for col in ['BsmtQual', 'BsmtCond', 'BsmtExposure', 'BsmtFinType1', 'BsmtFinType2']:\n",
    "    pd_train[col] = pd_train[col].fillna(\"None\")\n",
    "    pd_test[col] = pd_test[col].fillna(\"None\")\n",
    "    \n",
    "for col in ['GarageType', 'GarageFinish', 'GarageQual', 'GarageCond']:\n",
    "    pd_train[col] = pd_train[col].fillna(\"None\")\n",
    "    pd_test[col] = pd_test[col].fillna(\"None\")\n",
    "    \n",
    "for col in ['GarageYrBlt', 'GarageArea', 'GarageCars']:\n",
    "    pd_train[col] = pd_train[col].fillna(0)\n",
    "    pd_test[col] = pd_test[col].fillna(0)\n",
    "    \n",
    "pd_train['MasVnrType'] = pd_train['MasVnrType'].fillna(\"None\")\n",
    "pd_test['MasVnrType'] = pd_test['MasVnrType'].fillna(\"None\")\n",
    "\n",
    "pd_train['MasVnrArea'] = pd_train['MasVnrArea'].fillna(0)\n",
    "pd_test['MasVnrArea'] = pd_test['MasVnrArea'].fillna(0)\n",
    "\n",
    "pd_train['Electrical'] = pd_train['Electrical'].fillna(pd_train['Electrical'].mode()[0])\n",
    "pd_test['Electrical'] = pd_test['Electrical'].fillna(pd_test['Electrical'].mode()[0])\n",
    "\n",
    "print(pd_train.isnull().sum().max()) # check if any missing values are left\n",
    "print(pd_test.isnull().sum().max())"
   ]
  },
  {
   "cell_type": "code",
   "execution_count": null,
   "metadata": {},
   "outputs": [],
   "source": [
    "pd_test['BsmtFinSF1'] = pd_test['BsmtFinSF1'].fillna(pd_test['BsmtFinSF1'].mean())\n",
    "pd_test['BsmtFinSF2'] = pd_test['BsmtFinSF2'].fillna(pd_test['BsmtFinSF2'].mean())\n",
    "pd_test['BsmtUnfSF'] = pd_test['BsmtUnfSF'].fillna(pd_test['BsmtUnfSF'].mean())\n",
    "pd_test['TotalBsmtSF'] = pd_test['TotalBsmtSF'].fillna(pd_test['TotalBsmtSF'].mean())\n",
    "pd_test['BsmtFullBath'] = pd_test['BsmtFullBath'].fillna(pd_test['BsmtFullBath'].mean())\n",
    "pd_test['BsmtHalfBath'] = pd_test['BsmtHalfBath'].fillna(pd_test['BsmtHalfBath'].mean())"
   ]
  }
 ],
 "metadata": {
  "kernelspec": {
   "display_name": "base",
   "language": "python",
   "name": "python3"
  },
  "language_info": {
   "name": "python",
   "version": "3.7.1"
  }
 },
 "nbformat": 4,
 "nbformat_minor": 2
}
