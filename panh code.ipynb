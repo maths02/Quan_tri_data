{
 "cells": [
  {
   "cell_type": "code",
   "execution_count": null,
   "id": "98b33052",
   "metadata": {},
   "outputs": [],
   "source": [
    "#Import the library\n",
    "import tensorflow as tf\n",
    "import tensorflow_decision_forests as tfdf\n",
    "import pandas as pd\n",
    "import seaborn as sns\n",
    "import matplotlib.pyplot as plt\n",
    "\n",
    "# Comment this if the data visualisations doesn't work on your side\n",
    "print(\"TensorFlow v\" + tf.__version__)\n",
    "print(\"TensorFlow Decision Forests v\" + tfdf.__version__)\n",
    "\n",
    "#Load the dataset\n",
    "train_file_path = \"D:/QTDL with Spark/train.csv\"\n",
    "dataset_df = pd.read_csv(train_file_path)\n",
    "print(\"Full train dataset shape is {}\".format(dataset_df.shape))\n",
    "dataset_df.head(3)\n",
    "#There are 79 feature columns. Using these features your model has to predict the house sale price indicated by the label column named SalePrice.\n",
    "dataset_df = dataset_df.drop('Id', axis=1)\n",
    "dataset_df.head(3)\n",
    "dataset_df.info()\n",
    "train_file_path.describe()\n",
    "train_file_path.isnull().sum()\n",
    "train_file_path = df.dropna(axis=1)\n",
    "print(train_file_path) \n",
    "\n",
    "#House Price Distribution\n",
    "print(dataset_df['SalePrice'].describe())\n",
    "plt.figure(figsize=(9, 8))\n",
    "sns.histplot(dataset_df['SalePrice'], color='g', bins=100, hist_kws={'alpha': 0.4})\n",
    "\n",
    "#Numerical data distribution\n",
    "list(set(dataset_df.dtypes.tolist()))\n",
    "df_num = dataset_df.select_dtypes(include = ['float64', 'int64'])\n",
    "df_num.head()\n",
    "df_num.hist(figsize=(16, 20), bins=50, xlabelsize=8, ylabelsize=8)\n",
    "\n",
    "#Prepare the dataset\n",
    "\n",
    "\n",
    "def split_dataset(dataset, test_ratio=0.30):\n",
    "  test_indices = np.random.rand(len(dataset)) < test_ratio\n",
    "  return dataset[~test_indices], dataset[test_indices]\n",
    "\n",
    "train_ds_pd, valid_ds_pd = split_dataset(dataset_df)\n",
    "print(\"{} examples in training, {} examples in testing.\".format(\n",
    "    len(train_ds_pd), len(valid_ds_pd)))\n",
    "label = 'SalePrice'\n",
    "train_ds = tfdf.keras.pd_dataframe_to_tf_dataset(train_ds_pd, label=label, task = tfdf.keras.Task.REGRESSION)\n",
    "valid_ds = tfdf.keras.pd_dataframe_to_tf_dataset(valid_ds_pd, label=label, task = tfdf.keras.Task.REGRESSION)\n",
    "#Select a Model\n",
    "tfdf.keras.get_all_models()\n",
    "rf = tfdf.keras.RandomForestModel(hyperparameter_template=\"benchmark_rank1\", task=tfdf.keras.Task.REGRESSION)"
   ]
  }
 ],
 "metadata": {
  "kernelspec": {
   "display_name": "Python 3 (ipykernel)",
   "language": "python",
   "name": "python3"
  },
  "language_info": {
   "codemirror_mode": {
    "name": "ipython",
    "version": 3
   },
   "file_extension": ".py",
   "mimetype": "text/x-python",
   "name": "python",
   "nbconvert_exporter": "python",
   "pygments_lexer": "ipython3",
   "version": "3.9.12"
  }
 },
 "nbformat": 4,
 "nbformat_minor": 5
}
