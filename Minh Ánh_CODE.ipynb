{
 "cells": [
  {
   "cell_type": "code",
   "execution_count": null,
   "metadata": {},
   "outputs": [],
   "source": [
    "#2. Loading data & EDA\n",
    "TRAIN_INPUT = '../input/house-prices-advanced-regression-techniques/train.csv'\n",
    "TEST_INPUT = '../input/house-prices-advanced-regression-techniques/test.csv'"
   ]
  },
  {
   "cell_type": "code",
   "execution_count": null,
   "metadata": {},
   "outputs": [],
   "source": [
    "pd_train = pd.read_csv(TRAIN_INPUT)\n",
    "pd_test = pd.read_csv(TEST_INPUT)\n",
    "na_cols = pd_train.columns[pd_train.isna().any()].tolist()"
   ]
  },
  {
   "cell_type": "code",
   "execution_count": null,
   "metadata": {},
   "outputs": [],
   "source": [
    "# Let's Explore how SalePrice is distributed against normal theoretical quantiles\n",
    "fig = plt.figure()\n",
    "ax = fig.add_subplot()\n",
    "res = stats.probplot(pd_train['SalePrice'], plot=plt)"
   ]
  },
  {
   "cell_type": "code",
   "execution_count": null,
   "metadata": {},
   "outputs": [],
   "source": [
    "sns.distplot(pd_train['SalePrice'] , fit=norm);\n",
    "\n",
    "# parameters\n",
    "(mu, sigma) = norm.fit(pd_train['SalePrice'])\n",
    "\n",
    "plt.suptitle('Normal distribution with mu = {:.2f} and sigma = {:.2f}'.format(mu, sigma))\n",
    "plt.ylabel('Frequency')\n",
    "plt.title('SalePrice distribution')\n",
    "\n",
    "#ax = plt.axes()"
   ]
  },
  {
   "cell_type": "code",
   "execution_count": null,
   "metadata": {},
   "outputs": [],
   "source": [
    "corr = pd_train.corr()"
   ]
  },
  {
   "cell_type": "code",
   "execution_count": null,
   "metadata": {},
   "outputs": [],
   "source": [
    "corr[['SalePrice']].sort_values(by='SalePrice',ascending=False).style.background_gradient(cmap='viridis', axis=None)"
   ]
  },
  {
   "cell_type": "code",
   "execution_count": null,
   "metadata": {},
   "outputs": [],
   "source": [
    "fig, axes = plt.subplots(1, 2, sharex=True, figsize=(15,5))\n",
    "axes[0].set_xlim(0,10)\n",
    "\n",
    "sns.scatterplot(data=pd_train, ax=axes[0], x='OverallQual', y='SalePrice')\n",
    "axes[0].set_title('OverallQual vs SalePrice')\n",
    "sns.scatterplot(data=pd_train, ax=axes[1], x='GarageCars', y='SalePrice')\n",
    "axes[1].set_title('GarageCars vs SalePrice')"
   ]
  },
  {
   "cell_type": "code",
   "execution_count": null,
   "metadata": {},
   "outputs": [],
   "source": [
    "fig, axes = plt.subplots(1, 2, sharex=True, figsize=(15,5))\n",
    "axes[0].set_xlim(0, 6000)\n",
    "\n",
    "sns.scatterplot(data=pd_train, ax=axes[0], x='GrLivArea', y='SalePrice')\n",
    "axes[0].set_title('GrLivArea vs SalePrice')\n",
    "sns.scatterplot(data=pd_train, ax=axes[1], x='GarageArea', y='SalePrice')\n",
    "axes[1].set_title('GarageArea vs SalePrice')"
   ]
  },
  {
   "cell_type": "code",
   "execution_count": null,
   "metadata": {},
   "outputs": [],
   "source": [
    "fig, axes = plt.subplots(1, 2, sharex=True, figsize=(15,5))\n",
    "axes[0].set_xlim(0, 6000)\n",
    "\n",
    "sns.scatterplot(data=pd_train, ax=axes[0], x='TotalBsmtSF', y='SalePrice')\n",
    "axes[0].set_title('TotalBsmtSF vs SalePrice')\n",
    "sns.scatterplot(data=pd_train, ax=axes[1], x='1stFlrSF', y='SalePrice')\n",
    "axes[1].set_title('1stFlrSF vs SalePrice')"
   ]
  },
  {
   "cell_type": "code",
   "execution_count": null,
   "metadata": {},
   "outputs": [],
   "source": [
    "total = pd_train.isnull().sum().sort_values(ascending=False)\n",
    "percent = (pd_train.isnull().sum()/pd_train.shape[0]).sort_values(ascending=False)\n",
    "\n",
    "missing = pd.concat([total, percent], axis=1, keys=['Total', 'Perc_missing'])\n",
    "missing.head(15)"
   ]
  },
  {
   "cell_type": "code",
   "execution_count": null,
   "metadata": {},
   "outputs": [],
   "source": [
    "# We will remove features with missing proportion of more than 15% (thumb rule)\n",
    "\n",
    "pd_train = pd_train.drop((missing[missing['Perc_missing'] >= 0.15]).index,1)\n",
    "pd_train.head()"
   ]
  },
  {
   "cell_type": "code",
   "execution_count": null,
   "metadata": {},
   "outputs": [],
   "source": [
    "pd_train['New'] = pd_train['OverallQual'] * pd_train['GarageArea'] * pd_train['GrLivArea']\n",
    "pd_test['New'] = pd_test['OverallQual'] * pd_test['GarageArea'] * pd_test['GrLivArea']\n",
    "\n",
    "# As some of the contestants have noticed, this results in a spike in model performance later"
   ]
  },
  {
   "cell_type": "code",
   "execution_count": null,
   "metadata": {},
   "outputs": [],
   "source": [
    "train_cols = list(pd_train.columns)\n",
    "train_cols.remove('SalePrice')"
   ]
  },
  {
   "cell_type": "code",
   "execution_count": null,
   "metadata": {},
   "outputs": [],
   "source": [
    "#Make test ds feature set same as in train ds\n",
    "pd_test = pd_test[train_cols]"
   ]
  },
  {
   "cell_type": "code",
   "execution_count": null,
   "metadata": {},
   "outputs": [],
   "source": [
    "pd_test.columns[pd_test.isna().any()].tolist()"
   ]
  },
  {
   "cell_type": "code",
   "execution_count": null,
   "metadata": {},
   "outputs": [],
   "source": [
    "# Althoug this is not the best solution to fill the NA-values with \"None\"/0, for most of the features \n",
    "# in the particular datas, it literally means \"None\"/0 (e.g. Garage Area, Garage Type, Condition) as the house\n",
    "# probably doesn't have the garage.\n",
    "\n",
    "for col in ['BsmtQual', 'BsmtCond', 'BsmtExposure', 'BsmtFinType1', 'BsmtFinType2']:\n",
    "    pd_train[col] = pd_train[col].fillna(\"None\")\n",
    "    pd_test[col] = pd_test[col].fillna(\"None\")\n",
    "    \n",
    "for col in ['GarageType', 'GarageFinish', 'GarageQual', 'GarageCond']:\n",
    "    pd_train[col] = pd_train[col].fillna(\"None\")\n",
    "    pd_test[col] = pd_test[col].fillna(\"None\")\n",
    "    \n",
    "for col in ['GarageYrBlt', 'GarageArea', 'GarageCars']:\n",
    "    pd_train[col] = pd_train[col].fillna(0)\n",
    "    pd_test[col] = pd_test[col].fillna(0)\n",
    "    \n",
    "pd_train['MasVnrType'] = pd_train['MasVnrType'].fillna(\"None\")\n",
    "pd_test['MasVnrType'] = pd_test['MasVnrType'].fillna(\"None\")\n",
    "\n",
    "pd_train['MasVnrArea'] = pd_train['MasVnrArea'].fillna(0)\n",
    "pd_test['MasVnrArea'] = pd_test['MasVnrArea'].fillna(0)\n",
    "\n",
    "pd_train['Electrical'] = pd_train['Electrical'].fillna(pd_train['Electrical'].mode()[0])\n",
    "pd_test['Electrical'] = pd_test['Electrical'].fillna(pd_test['Electrical'].mode()[0])\n",
    "\n",
    "print(pd_train.isnull().sum().max()) # check if any missing values are left\n",
    "print(pd_test.isnull().sum().max())"
   ]
  },
  {
   "cell_type": "code",
   "execution_count": null,
   "metadata": {},
   "outputs": [],
   "source": [
    "pd_test['BsmtFinSF1'] = pd_test['BsmtFinSF1'].fillna(pd_test['BsmtFinSF1'].mean())\n",
    "pd_test['BsmtFinSF2'] = pd_test['BsmtFinSF2'].fillna(pd_test['BsmtFinSF2'].mean())\n",
    "pd_test['BsmtUnfSF'] = pd_test['BsmtUnfSF'].fillna(pd_test['BsmtUnfSF'].mean())\n",
    "pd_test['TotalBsmtSF'] = pd_test['TotalBsmtSF'].fillna(pd_test['TotalBsmtSF'].mean())\n",
    "pd_test['BsmtFullBath'] = pd_test['BsmtFullBath'].fillna(pd_test['BsmtFullBath'].mean())\n",
    "pd_test['BsmtHalfBath'] = pd_test['BsmtHalfBath'].fillna(pd_test['BsmtHalfBath'].mean())"
   ]
  },
  {
   "cell_type": "code",
   "execution_count": null,
   "metadata": {},
   "outputs": [],
   "source": [
    "# This is how fillna is done in PySpark\n",
    "\n",
    "# train_df = train_df.na.fill('NoData', subset=['MSZoning', 'Utilities', 'Exterior1st', 'Exterior2nd', 'BsmtFinSF1',\n",
    "#       'BsmtFinSF2', 'BsmtUnfSF', 'TotalBsmtSF', 'BsmtFullBath',\n",
    "#       'BsmtHalfBath', 'KitchenQual', 'Functional', 'GarageCars', 'GarageArea','SaleType'])\n",
    "# test_df = test_df.na.fill('NoData', subset=['MSZoning', 'Utilities', 'Exterior1st', 'Exterior2nd', 'BsmtFinSF1',\n",
    "#       'BsmtFinSF2', 'BsmtUnfSF', 'TotalBsmtSF', 'BsmtFullBath',\n",
    "#       'BsmtHalfBath', 'KitchenQual', 'Functional', 'GarageCars', 'GarageArea','SaleType'])"
   ]
  },
  {
   "cell_type": "code",
   "execution_count": null,
   "metadata": {},
   "outputs": [],
   "source": [
    "cat_columns = pd_train.select_dtypes(include=['object']).columns\n",
    "pd_train[cat_columns] = pd_train[cat_columns].fillna('NoData')\n",
    "pd_test[cat_columns] = pd_test[cat_columns].fillna('NoData')"
   ]
  }
 ],
 "metadata": {
  "kernelspec": {
   "display_name": "Python 3",
   "language": "python",
   "name": "python3"
  },
  "language_info": {
   "codemirror_mode": {
    "name": "ipython",
    "version": 3
   },
   "file_extension": ".py",
   "mimetype": "text/x-python",
   "name": "python",
   "nbconvert_exporter": "python",
   "pygments_lexer": "ipython3",
   "version": "3.7.1"
  }
 },
 "nbformat": 4,
 "nbformat_minor": 2
}
